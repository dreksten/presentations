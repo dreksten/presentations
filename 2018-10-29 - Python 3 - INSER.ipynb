{
 "cells": [
  {
   "cell_type": "markdown",
   "metadata": {
    "slideshow": {
     "slide_type": "slide"
    }
   },
   "source": [
    "# Python 3\n",
    "\n",
    "## dr@inser.ch, 29-10-2018"
   ]
  },
  {
   "cell_type": "markdown",
   "metadata": {
    "slideshow": {
     "slide_type": "slide"
    }
   },
   "source": [
    "# Python?\n",
    "\n",
    "## C'est un langage...\n",
    "\n",
    "* *impératif* construit par des *déclarations*\n",
    "* Interprété\n",
    "* Focalisé sur la lisibilité et la productivité\n",
    "* Polyvalent\n",
    "* Orienté objet\n",
    "* avec typage *fort* et *dynamique*\n"
   ]
  },
  {
   "cell_type": "markdown",
   "metadata": {
    "slideshow": {
     "slide_type": "slide"
    }
   },
   "source": [
    "# Interprété?\n",
    "\n",
    "Ton code Python, il est toujours\n",
    "\n",
    "* Compilé en _byte code_\n",
    "\n",
    "* Exécuté dans une VM (machine virtuelle)\n",
    "\n",
    "Par contre, la compilation est _implicite_, et non explicite comme dans Java."
   ]
  },
  {
   "cell_type": "markdown",
   "metadata": {
    "slideshow": {
     "slide_type": "slide"
    }
   },
   "source": [
    "# Python est parfait pour...\n",
    "\n",
    "## Services _back-end_\n",
    "\n",
    "* Webservices\n",
    "* Sites web\n",
    "* Devops\n",
    "* Machine learning\n",
    "* Intélligence artificielle\n",
    "* Automation\n",
    "\n"
   ]
  },
  {
   "cell_type": "markdown",
   "metadata": {
    "slideshow": {
     "slide_type": "subslide"
    }
   },
   "source": [
    "# Python est parfait pour...\n",
    "\n",
    "## Services _front-end_\n",
    "\n",
    "* La formation (le langage numéro 1 aux universités des états-unis)\n",
    "* Sciences et recherches\n",
    "* IoT (Raspberry PI)\n",
    "* Web scraping\n",
    "* Data mining\n",
    "* Automation\n",
    "* GIS!"
   ]
  },
  {
   "cell_type": "markdown",
   "metadata": {
    "slideshow": {
     "slide_type": "subslide"
    }
   },
   "source": [
    "# Mais _probablement_ pas le bon choix pour...\n",
    "\n",
    "* La plus haute performance possible\n",
    "  * High frequency trading\n",
    "  * Jeux vidéo orienté graphisme\n",
    "* Directement manipuler du hardware\n",
    "* Des très gros projets \"enterprise\" avec des centaines de collaborateurs\n",
    "* Applications mobiles (malgré https://kivy.org ;-)"
   ]
  },
  {
   "cell_type": "markdown",
   "metadata": {
    "slideshow": {
     "slide_type": "slide"
    }
   },
   "source": [
    "# Quelques utilisateurs Python\n",
    "\n",
    "* Google\n",
    "* Facebook\n",
    "* Youtube\n",
    "* Dropbox\n",
    "* Instagram\n",
    "* Spotify\n",
    "* Netflix\n",
    "* Red Hat\n",
    "* ESRI, Safe, QGIS, INSER, ..."
   ]
  },
  {
   "cell_type": "markdown",
   "metadata": {
    "slideshow": {
     "slide_type": "slide"
    }
   },
   "source": [
    "# Caractéristiques\n",
    "\n",
    "* \"Piles inclues\"\n",
    "* Tout est un Object de première classe\n",
    "* Réflexif\n",
    "* Sessions intéractives\n",
    "* Multiplateforme (Linux, Mac, Windows, ...)\n",
    "* Open Source"
   ]
  },
  {
   "cell_type": "markdown",
   "metadata": {
    "slideshow": {
     "slide_type": "slide"
    }
   },
   "source": [
    "# Releases majeurs\n",
    "\n",
    "* Crée en 1989 par Guido van Rossum (ex-Google, Dropbox)\n",
    "* Version 1.0 en 1994\n",
    "* Version 2.0 en 2000\n",
    "* Version 3.0 en 2008\n",
    "\n",
    "Actuellement: Version 3.7.1\n"
   ]
  },
  {
   "cell_type": "markdown",
   "metadata": {
    "slideshow": {
     "slide_type": "slide"
    }
   },
   "source": [
    "# Complexité\n",
    "\n",
    "Imprimer ```Hello World!``` sur le console"
   ]
  },
  {
   "cell_type": "markdown",
   "metadata": {
    "slideshow": {
     "slide_type": "slide"
    }
   },
   "source": [
    "## Java"
   ]
  },
  {
   "cell_type": "markdown",
   "metadata": {
    "slideshow": {
     "slide_type": "-"
    }
   },
   "source": [
    "```java\n",
    "public class HelloWorld {\n",
    "   public static void main(String[] args) {\n",
    "      System.out.println(\"Hello, World\");\n",
    "   }\n",
    "}\n",
    "\n",
    "```\n"
   ]
  },
  {
   "cell_type": "markdown",
   "metadata": {
    "slideshow": {
     "slide_type": "slide"
    }
   },
   "source": [
    "## Python"
   ]
  },
  {
   "cell_type": "code",
   "execution_count": null,
   "metadata": {
    "slideshow": {
     "slide_type": "-"
    }
   },
   "outputs": [],
   "source": [
    "print(\"Hello World!\")"
   ]
  },
  {
   "cell_type": "markdown",
   "metadata": {
    "slideshow": {
     "slide_type": "fragment"
    }
   },
   "source": [
    "Facile, non? ;-)"
   ]
  },
  {
   "cell_type": "markdown",
   "metadata": {
    "slideshow": {
     "slide_type": "slide"
    }
   },
   "source": [
    "# Encore une comparaison\n",
    "\n",
    "Imprimer les numéros de 0 à 9 avec une boucle"
   ]
  },
  {
   "cell_type": "markdown",
   "metadata": {
    "slideshow": {
     "slide_type": "subslide"
    }
   },
   "source": [
    "## Java\n"
   ]
  },
  {
   "cell_type": "markdown",
   "metadata": {
    "slideshow": {
     "slide_type": "-"
    }
   },
   "source": [
    "```java\n",
    "for (int i = 1; i < 10; i++)\n",
    "{\n",
    "   System.out.println(i);\n",
    "}\n",
    "```"
   ]
  },
  {
   "cell_type": "markdown",
   "metadata": {
    "slideshow": {
     "slide_type": "subslide"
    }
   },
   "source": [
    "## Python"
   ]
  },
  {
   "cell_type": "code",
   "execution_count": null,
   "metadata": {
    "slideshow": {
     "slide_type": "-"
    }
   },
   "outputs": [],
   "source": [
    "for i in range(10):\n",
    "    print(i)"
   ]
  },
  {
   "cell_type": "markdown",
   "metadata": {
    "slideshow": {
     "slide_type": "fragment"
    }
   },
   "source": [
    "Facile, non? ;-)"
   ]
  },
  {
   "cell_type": "markdown",
   "metadata": {
    "slideshow": {
     "slide_type": "slide"
    }
   },
   "source": [
    "# Indentation du code\n",
    "* La plupart des langues ne se soucient pas de l'indentation\n",
    "* La plupart des humains le font\n",
    "* Nous avons tendance à regrouper les choses similaires"
   ]
  },
  {
   "cell_type": "markdown",
   "metadata": {
    "slideshow": {
     "slide_type": "subslide"
    }
   },
   "source": [
    "### Exemple: combien de fois est imprimé ```Hello INSER```?"
   ]
  },
  {
   "cell_type": "markdown",
   "metadata": {
    "slideshow": {
     "slide_type": "-"
    }
   },
   "source": [
    "```c\n",
    "for (i=0; i<10; i++);\n",
    "    printf(\"Hello INSER\\n\");\n",
    "\n",
    "```"
   ]
  },
  {
   "cell_type": "markdown",
   "metadata": {
    "slideshow": {
     "slide_type": "fragment"
    }
   },
   "source": [
    "Solution: une seule fois.\n",
    "\n",
    "Dans Python, le formattage et la logique sont inséparables."
   ]
  },
  {
   "cell_type": "markdown",
   "metadata": {
    "slideshow": {
     "slide_type": "slide"
    }
   },
   "source": [
    "# Typage dynamique\n",
    "\n",
    "## Python pratique le *typage canard* ou \"duck typing\"\n",
    "\n",
    "> _Si je vois un oiseau qui_\n",
    "> \n",
    "> _vole comme un canard,_\n",
    "> \n",
    "> _cancane comme un canard,_\n",
    "> \n",
    "> _et nage comme un canard,_\n",
    "> \n",
    "> _alors j'appelle cet oiseau un canard._\n",
    "\n",
    "    -- James Whitcomb Riley, poète américain (1849-1916)\n"
   ]
  },
  {
   "cell_type": "markdown",
   "metadata": {
    "slideshow": {
     "slide_type": "subslide"
    }
   },
   "source": [
    "### Problème classique\n",
    "\n",
    "Typage statique est contraignant (le fonction accepte uniquement un objet de type ```File```)\n",
    "\n",
    "```java\n",
    "public void writeHello(File out) {\n",
    "    out.write(\"Hello World!\")\n",
    "}\n",
    "```\n"
   ]
  },
  {
   "cell_type": "markdown",
   "metadata": {
    "slideshow": {
     "slide_type": "fragment"
    }
   },
   "source": [
    "### Solution classique\n",
    "\n",
    "Ne pas mentionner le type réel (n'importe quelle classe peux implémenter l'interface ```IWritable```)\n",
    "\n",
    "```java\n",
    "public void writeHello(IWritable out) {\n",
    "    out.write(\"Hello World!\")\n",
    "}\n",
    "```\n"
   ]
  },
  {
   "cell_type": "markdown",
   "metadata": {
    "slideshow": {
     "slide_type": "subslide"
    }
   },
   "source": [
    "### Solution canard\n",
    "\n",
    "Dans Python on n'utilise pas le _typage statique_, mais le _typage canard_\n",
    "\n",
    "```python\n",
    "def writeHello(out):\n",
    "    out.write('Hello World!')\n",
    "```\n",
    "\n",
    "Cette fonction accepte _n'importe quoi_, sous risque d'une exception si le canard refuse de cancaner."
   ]
  },
  {
   "cell_type": "markdown",
   "metadata": {
    "slideshow": {
     "slide_type": "slide"
    }
   },
   "source": [
    "# Types\n",
    "\n",
    "## Les types de bases les plus couramment utilisés\n"
   ]
  },
  {
   "cell_type": "markdown",
   "metadata": {
    "slideshow": {
     "slide_type": "subslide"
    }
   },
   "source": [
    "#### Numéros\n",
    "* int\n",
    "* float\n",
    "\n",
    "#### Strings\n",
    "* str\n",
    "\n",
    "#### Collections\n",
    "* tuple\n",
    "* list\n",
    "* dict"
   ]
  },
  {
   "cell_type": "markdown",
   "metadata": {
    "slideshow": {
     "slide_type": "slide"
    }
   },
   "source": [
    "# Numéros "
   ]
  },
  {
   "cell_type": "code",
   "execution_count": null,
   "metadata": {
    "slideshow": {
     "slide_type": "-"
    }
   },
   "outputs": [],
   "source": [
    "# integers\n",
    "year = 2018\n",
    "year = int(\"2018\")\n",
    "print(year)\n",
    "\n",
    "# readable numeric literals (introduced in Python 3.5)\n",
    "megabyte =  1_048_576\n",
    "print(megabyte)\n",
    "\n",
    "# floats\n",
    "pi = 3.1415\n",
    "pi = float(\"3.1415\")\n",
    "print(pi)"
   ]
  },
  {
   "cell_type": "markdown",
   "metadata": {
    "slideshow": {
     "slide_type": "slide"
    }
   },
   "source": [
    "# Null"
   ]
  },
  {
   "cell_type": "code",
   "execution_count": null,
   "metadata": {
    "slideshow": {
     "slide_type": "-"
    }
   },
   "outputs": [],
   "source": [
    "optional_data = None"
   ]
  },
  {
   "cell_type": "markdown",
   "metadata": {
    "slideshow": {
     "slide_type": "slide"
    }
   },
   "source": [
    "# Strings\n",
    "\n",
    "* Objets de première classe\n",
    "* Unicode\n",
    "* Librairie très complète"
   ]
  },
  {
   "cell_type": "code",
   "execution_count": null,
   "metadata": {
    "slideshow": {
     "slide_type": "-"
    }
   },
   "outputs": [],
   "source": [
    "animals = 'Chats ' + \"Chiens \"\n",
    "animals += 'Lapins'\n",
    "\n",
    "print(animals)"
   ]
  },
  {
   "cell_type": "markdown",
   "metadata": {
    "slideshow": {
     "slide_type": "slide"
    }
   },
   "source": [
    "# Formattage des strings\n",
    "\n",
    "## Formattage par ```%```\n",
    "\n",
    "\\+ Disponible depuis Python 1\n",
    "\n",
    "\\- Deviens vite difficile à lire"
   ]
  },
  {
   "cell_type": "code",
   "execution_count": null,
   "metadata": {
    "slideshow": {
     "slide_type": "subslide"
    }
   },
   "outputs": [],
   "source": [
    "name = 'David'\n",
    "print('Hello %s' % name)\n",
    "\n",
    "date = '%s, %d %d' % ('Oct', 10, 2018)\n",
    "print(date)\n",
    "\n",
    "values = {'first': 'David', 'last': 'Reksten'}\n",
    "name = '%(first)s %(last)s' % values\n",
    "print(name)"
   ]
  },
  {
   "cell_type": "markdown",
   "metadata": {
    "slideshow": {
     "slide_type": "subslide"
    }
   },
   "source": [
    "## Formattage par ```f```\n",
    "\n",
    "* Introduit dans Python 3.6\n",
    "\n",
    "* Plus joli et plus performant que le formattage par ```%```"
   ]
  },
  {
   "cell_type": "code",
   "execution_count": null,
   "metadata": {
    "slideshow": {
     "slide_type": "fragment"
    }
   },
   "outputs": [],
   "source": [
    "name = 'David'\n",
    "company = 'INSER'\n",
    "year = 2018\n",
    "\n",
    "s = f'{name} travaille chez {company} en {year}.'\n",
    "\n",
    "print(s)"
   ]
  },
  {
   "cell_type": "markdown",
   "metadata": {
    "slideshow": {
     "slide_type": "subslide"
    }
   },
   "source": [
    "### Et ça fonctionne même avec des expressions!"
   ]
  },
  {
   "cell_type": "code",
   "execution_count": null,
   "metadata": {
    "slideshow": {
     "slide_type": "-"
    }
   },
   "outputs": [],
   "source": [
    "print(f'La réponse = {7 * 6}')"
   ]
  },
  {
   "cell_type": "code",
   "execution_count": null,
   "metadata": {
    "slideshow": {
     "slide_type": "subslide"
    }
   },
   "outputs": [],
   "source": [
    "from math import pi\n",
    "\n",
    "def calc(input):\n",
    "    return input * 42\n",
    "\n",
    "print(f'La réponse multipliée par {math.pi} = {calc(math.pi)}')"
   ]
  },
  {
   "cell_type": "markdown",
   "metadata": {
    "slideshow": {
     "slide_type": "slide"
    }
   },
   "source": [
    "# Liste\n",
    "\n",
    "* Aussi connu sous le nom _array_\n",
    "* Une collection hétérogène\n",
    "* Itérable"
   ]
  },
  {
   "cell_type": "code",
   "execution_count": null,
   "metadata": {
    "slideshow": {
     "slide_type": "fragment"
    }
   },
   "outputs": [],
   "source": [
    "favorites = []\n",
    "\n",
    "# Rajouts\n",
    "favorites.append(42)\n",
    "\n",
    "# Extensions\n",
    "favorites.extend(['Python', True])\n",
    "print(favorites)\n",
    "\n",
    "# Corrésponds à\n",
    "favorites = [42, 'Python', True]\n",
    "print(favorites)"
   ]
  },
  {
   "cell_type": "markdown",
   "metadata": {
    "slideshow": {
     "slide_type": "slide"
    }
   },
   "source": [
    "# Dictionary\n",
    "\n",
    "* Aussi connu sous le nom _hash table_\n",
    "\n",
    "* Une collection d'objets, référencé par la clé associé et non par l'index\n",
    "\n",
    "* Stockage de clés/valeurs de n'import quelle instance d'un objet\n",
    "\n"
   ]
  },
  {
   "cell_type": "code",
   "execution_count": null,
   "metadata": {
    "slideshow": {
     "slide_type": "subslide"
    }
   },
   "outputs": [],
   "source": [
    "person = {}\n",
    "\n",
    "# Set by key / get by key\n",
    "person['name'] = 'David Reksten'\n",
    "\n",
    "# Update\n",
    "person.update({\n",
    "    'favorites': [42, 'la bouffe'],\n",
    "    'voiture': 'Golf'\n",
    "})\n",
    "\n",
    "# N'import quel objet immuable peut être utilisé comme clé\n",
    "person[42] = 'Mon numéro préféré'\n",
    "person[(2_537_846, 1_154_906)] = 'Ma position'\n",
    "\n",
    "# Dictionaries can be nested\n",
    "person['data'] = {'phone': '021 643 77 11', 'address': 'Maillefer 36'}\n",
    "\n",
    "print(person)"
   ]
  },
  {
   "cell_type": "markdown",
   "metadata": {
    "slideshow": {
     "slide_type": "slide"
    }
   },
   "source": [
    "# Loops\n",
    "\n",
    "* Le loop ```for``` est utilisé avec n'importe quel _itérable_"
   ]
  },
  {
   "cell_type": "code",
   "execution_count": null,
   "metadata": {
    "slideshow": {
     "slide_type": "-"
    }
   },
   "outputs": [],
   "source": [
    "for x in range(10):\n",
    "    print(x)"
   ]
  },
  {
   "cell_type": "code",
   "execution_count": null,
   "metadata": {
    "slideshow": {
     "slide_type": "fragment"
    }
   },
   "outputs": [],
   "source": [
    "fruits = ['Pomme', 'Banane', 'Orange']\n",
    "for fruit in fruits:\n",
    "    print(fruit)"
   ]
  },
  {
   "cell_type": "code",
   "execution_count": null,
   "metadata": {
    "slideshow": {
     "slide_type": "subslide"
    }
   },
   "outputs": [],
   "source": [
    "# Expanded for loop\n",
    "\n",
    "cantons = {'VD': 'Vaud', \n",
    "           'GE': 'Genève', \n",
    "           'VS': 'Valais'}\n",
    "\n",
    "for key, value in cantons.items():\n",
    "    print(f'{key}: {value}')"
   ]
  },
  {
   "cell_type": "markdown",
   "metadata": {
    "slideshow": {
     "slide_type": "slide"
    }
   },
   "source": [
    "\n",
    "\n",
    "# List comprehension\n",
    "\n",
    "* Transforme une liste à une autre\n",
    "\n",
    "* Remplace les loops"
   ]
  },
  {
   "cell_type": "code",
   "execution_count": null,
   "metadata": {
    "slideshow": {
     "slide_type": "subslide"
    }
   },
   "outputs": [],
   "source": [
    "# Trouver les chiffres impaire 0 - 49 avec un loop\n",
    "odd = []\n",
    "for x in range(50):\n",
    "    if x % 2:\n",
    "        odd.append(x)\n",
    "\n",
    "print(odd)"
   ]
  },
  {
   "cell_type": "code",
   "execution_count": null,
   "metadata": {
    "slideshow": {
     "slide_type": "fragment"
    }
   },
   "outputs": [],
   "source": [
    "# Et avec list comprehension\n",
    "odd = [x for x in range(50) if x % 2]\n",
    "\n",
    "print(odd)"
   ]
  },
  {
   "cell_type": "markdown",
   "metadata": {
    "slideshow": {
     "slide_type": "slide"
    }
   },
   "source": [
    "# Dictionary comprehension\n",
    "\n",
    "* Transforme une dictionnaire à une autre\n",
    "\n",
    "* Remplace le loop"
   ]
  },
  {
   "cell_type": "code",
   "execution_count": null,
   "metadata": {
    "slideshow": {
     "slide_type": "subslide"
    }
   },
   "outputs": [],
   "source": [
    "# Calcul des valeurs carrées à l'ancienne\n",
    "\n",
    "numbers = range(10)\n",
    "squares = {}\n",
    "\n",
    "for n in numbers:\n",
    "    if n % 2 == 0:\n",
    "        squares[n] = n**2\n",
    "\n",
    "print(squares)"
   ]
  },
  {
   "cell_type": "code",
   "execution_count": null,
   "metadata": {
    "slideshow": {
     "slide_type": "fragment"
    }
   },
   "outputs": [],
   "source": [
    "# Avec un dictionary comprehension\n",
    "\n",
    "numbers = range(10)\n",
    "\n",
    "squares = {n:n**2 for n in numbers if n % 2 == 0}\n",
    "\n",
    "print(squares)"
   ]
  },
  {
   "cell_type": "code",
   "execution_count": null,
   "metadata": {
    "slideshow": {
     "slide_type": "subslide"
    }
   },
   "outputs": [],
   "source": [
    "# Convertir des températures Fahrenheit en Celsius\n",
    "\n",
    "fahrenheit = {'temp_corp': 99.5, \n",
    "              'gd_question': 107.6, \n",
    "              'printemps': 41, \n",
    "              'congel': 0}\n",
    "\n",
    "celsius = {key : 5/9*(value-32) for (key, value) in fahrenheit.items()}\n",
    "print(celsius)"
   ]
  },
  {
   "cell_type": "markdown",
   "metadata": {
    "slideshow": {
     "slide_type": "slide"
    }
   },
   "source": [
    "# Fonctions"
   ]
  },
  {
   "cell_type": "code",
   "execution_count": null,
   "metadata": {
    "slideshow": {
     "slide_type": "-"
    }
   },
   "outputs": [],
   "source": [
    "# Fonction basic\n",
    "\n",
    "def ma_fonction():\n",
    "    \"\"\"Ma documentation se trouve ici\"\"\"\n",
    "    print('Hello World!')\n",
    "    \n",
    "ma_fonction()\n",
    "print('La documentation:', ma_fonction.__doc__)"
   ]
  },
  {
   "cell_type": "code",
   "execution_count": null,
   "metadata": {
    "slideshow": {
     "slide_type": "subslide"
    }
   },
   "outputs": [],
   "source": [
    "# Arguments positionnels\n",
    "def add(x, y):\n",
    "    print(x + y)\n",
    "\n",
    "add(1, 2)"
   ]
  },
  {
   "cell_type": "code",
   "execution_count": null,
   "metadata": {
    "slideshow": {
     "slide_type": "subslide"
    }
   },
   "outputs": [],
   "source": [
    "# Arguments de mots-clés\n",
    "def shout(phrase='Hello World!'):\n",
    "    print(phrase)\n",
    "\n",
    "shout()\n",
    "shout(phrase='Bonjour INSER')"
   ]
  },
  {
   "cell_type": "code",
   "execution_count": null,
   "metadata": {
    "slideshow": {
     "slide_type": "subslide"
    }
   },
   "outputs": [],
   "source": [
    "# Arguments positionnels et mots-clés\n",
    "def echo(text, prefix=''):\n",
    "    print('%s%s' % (prefix, text))\n",
    "    \n",
    "echo(\"Donald's\", prefix='Mc')"
   ]
  },
  {
   "cell_type": "code",
   "execution_count": null,
   "metadata": {
    "slideshow": {
     "slide_type": "subslide"
    }
   },
   "outputs": [],
   "source": [
    "# Arguments arbitraires\n",
    "def some_method(*args, **kwargs):\n",
    "    for arg in args:\n",
    "        print('Argument:', arg)\n",
    "        \n",
    "    for key, value in kwargs.items():\n",
    "        print('Key:', key)\n",
    "        \n",
    "some_method(1, 2, 3, name='numbers', message='Hello World!')"
   ]
  },
  {
   "cell_type": "markdown",
   "metadata": {
    "slideshow": {
     "slide_type": "slide"
    }
   },
   "source": [
    "# Générateurs\n",
    "\n",
    "## La suite de Fibonacci comme exemple\n",
    "\n",
    "Une suite d'entiers dans laquelle chaque terme est la somme des deux termes qui le précèdent."
   ]
  },
  {
   "cell_type": "code",
   "execution_count": null,
   "metadata": {
    "slideshow": {
     "slide_type": "subslide"
    }
   },
   "outputs": [],
   "source": [
    "# Méthode classique pour calculer la suite Fibonacci\n",
    "\n",
    "def fib(n):\n",
    "    \"\"\"Return fibonacci numbers from 0 up to n\"\"\"\n",
    "    results = []\n",
    "    a, b = 0, 1\n",
    "    while a < n:\n",
    "        results.append(a)\n",
    "        a, b = b, a + b\n",
    "    return results\n",
    "\n",
    "for fibnum in fib(50):\n",
    "    print(fibnum, end=' ')"
   ]
  },
  {
   "cell_type": "code",
   "execution_count": null,
   "metadata": {
    "slideshow": {
     "slide_type": "fragment"
    }
   },
   "outputs": [],
   "source": [
    "# En utilisant un générateur\n",
    "\n",
    "def fib():\n",
    "    \"\"\"Yield next fibonacci number, starting at 0\"\"\"\n",
    "    a, b = 0, 1\n",
    "    while True:\n",
    "        yield a\n",
    "        a, b = b, a + b\n",
    "\n",
    "        \n",
    "for fibnum in fib():\n",
    "    if fibnum < 50:\n",
    "        print(fibnum, end=' ')\n",
    "    else:\n",
    "        break"
   ]
  },
  {
   "cell_type": "markdown",
   "metadata": {
    "slideshow": {
     "slide_type": "subslide"
    }
   },
   "source": [
    "## Generator expressions\n"
   ]
  },
  {
   "cell_type": "code",
   "execution_count": null,
   "metadata": {
    "slideshow": {
     "slide_type": "-"
    }
   },
   "outputs": [],
   "source": [
    "# Calculer la somme des cubes des nombres 0-9999\n",
    "\n",
    "sum(x**3 for x in range(10000))"
   ]
  },
  {
   "cell_type": "code",
   "execution_count": null,
   "metadata": {
    "slideshow": {
     "slide_type": "subslide"
    }
   },
   "outputs": [],
   "source": [
    "# Générer une dictionnaire avec tous les fichiers et les tailles dans un dossier\n",
    "\n",
    "import os.path\n",
    "from pprint import pprint\n",
    "\n",
    "dir_contents = {filename: os.path.getsize(filename)\n",
    "                for filename in os.listdir('.')}\n",
    "\n",
    "pprint(dir_contents)"
   ]
  },
  {
   "cell_type": "markdown",
   "metadata": {
    "slideshow": {
     "slide_type": "slide"
    }
   },
   "source": [
    "\n",
    "# Idiômes Python\n",
    "\n",
    "> _“We may document our code extensively, write exhaustive unit tests, and hold code reviews three times a day, but the fact remains: when someone else needs to make changes, the code is king.”_\n",
    "\n",
    "    -- Jeff Knupp dans le livre \"Writing idiomatic Python\""
   ]
  },
  {
   "cell_type": "markdown",
   "metadata": {
    "slideshow": {
     "slide_type": "subslide"
    }
   },
   "source": [
    "## Multiples affectations "
   ]
  },
  {
   "cell_type": "code",
   "execution_count": null,
   "metadata": {
    "slideshow": {
     "slide_type": "-"
    }
   },
   "outputs": [],
   "source": [
    "x = 5\n",
    "y = 1"
   ]
  },
  {
   "cell_type": "markdown",
   "metadata": {
    "slideshow": {
     "slide_type": "-"
    }
   },
   "source": [
    "### Dans Python"
   ]
  },
  {
   "cell_type": "code",
   "execution_count": null,
   "metadata": {
    "slideshow": {
     "slide_type": "-"
    }
   },
   "outputs": [],
   "source": [
    "x, y = 5, 1"
   ]
  },
  {
   "cell_type": "markdown",
   "metadata": {
    "slideshow": {
     "slide_type": "subslide"
    }
   },
   "source": [
    "## Déballage des séquences"
   ]
  },
  {
   "cell_type": "code",
   "execution_count": null,
   "metadata": {
    "slideshow": {
     "slide_type": "-"
    }
   },
   "outputs": [],
   "source": [
    "values = ['David', 'Reksten', 'GIS', 'dr@inser.ch']\n",
    "\n",
    "fname = values[0]\n",
    "lname = values[1]\n",
    "dept = values[2]\n",
    "email = values[3]"
   ]
  },
  {
   "cell_type": "markdown",
   "metadata": {
    "slideshow": {
     "slide_type": "-"
    }
   },
   "source": [
    "### Dans Python"
   ]
  },
  {
   "cell_type": "code",
   "execution_count": null,
   "metadata": {
    "slideshow": {
     "slide_type": "-"
    }
   },
   "outputs": [],
   "source": [
    "fname, lname, dept, email = values"
   ]
  },
  {
   "cell_type": "markdown",
   "metadata": {
    "slideshow": {
     "slide_type": "subslide"
    }
   },
   "source": [
    "## Itération sur une collection"
   ]
  },
  {
   "cell_type": "code",
   "execution_count": null,
   "metadata": {
    "slideshow": {
     "slide_type": "-"
    }
   },
   "outputs": [],
   "source": [
    "colors = ['rouge', 'vert', 'bleue', 'jaune']\n",
    "\n",
    "for i in range(len(colors)):\n",
    "    print(colors[i])"
   ]
  },
  {
   "cell_type": "markdown",
   "metadata": {
    "slideshow": {
     "slide_type": "-"
    }
   },
   "source": [
    "### Dans Python"
   ]
  },
  {
   "cell_type": "code",
   "execution_count": null,
   "metadata": {
    "slideshow": {
     "slide_type": "-"
    }
   },
   "outputs": [],
   "source": [
    "for color in colors:\n",
    "    print(color)"
   ]
  },
  {
   "cell_type": "markdown",
   "metadata": {
    "slideshow": {
     "slide_type": "subslide"
    }
   },
   "source": [
    "## Itération sur une collection avec indice"
   ]
  },
  {
   "cell_type": "code",
   "execution_count": null,
   "metadata": {
    "slideshow": {
     "slide_type": "-"
    }
   },
   "outputs": [],
   "source": [
    "colors = ['rouge', 'vert', 'bleue', 'jaune']\n",
    "\n",
    "for i in (range(len(colors))):\n",
    "    print(i, '->', colors[i])"
   ]
  },
  {
   "cell_type": "markdown",
   "metadata": {
    "slideshow": {
     "slide_type": "-"
    }
   },
   "source": [
    "### Dans Python"
   ]
  },
  {
   "cell_type": "code",
   "execution_count": null,
   "metadata": {
    "slideshow": {
     "slide_type": "-"
    }
   },
   "outputs": [],
   "source": [
    "for i, color in enumerate(colors):\n",
    "    print(i, '->', color)"
   ]
  },
  {
   "cell_type": "markdown",
   "metadata": {
    "slideshow": {
     "slide_type": "subslide"
    }
   },
   "source": [
    "## Itération sur deux collections"
   ]
  },
  {
   "cell_type": "code",
   "execution_count": null,
   "metadata": {
    "slideshow": {
     "slide_type": "-"
    }
   },
   "outputs": [],
   "source": [
    "names = ['David', 'Régis', 'Eulalie']  # 3 éléments\n",
    "colors = ['rouge', 'vert', 'bleue', 'jaune']  # 4 éléments\n",
    "\n",
    "n = min(len(names), len(colors))\n",
    "for i in range(n):\n",
    "    print(names[i], '->', colors[i])"
   ]
  },
  {
   "cell_type": "markdown",
   "metadata": {
    "slideshow": {
     "slide_type": "-"
    }
   },
   "source": [
    "## Dans Python"
   ]
  },
  {
   "cell_type": "code",
   "execution_count": null,
   "metadata": {
    "slideshow": {
     "slide_type": "-"
    }
   },
   "outputs": [],
   "source": [
    "for name, color in zip(names, colors):\n",
    "    print(name, '->', color)"
   ]
  },
  {
   "cell_type": "markdown",
   "metadata": {
    "slideshow": {
     "slide_type": "subslide"
    }
   },
   "source": [
    "## Concatener une liste de strings"
   ]
  },
  {
   "cell_type": "code",
   "execution_count": null,
   "metadata": {
    "slideshow": {
     "slide_type": "-"
    }
   },
   "outputs": [],
   "source": [
    "names = ['Albin', 'Régis', 'Eulalie', 'David']\n",
    "\n",
    "s = names[0]\n",
    "for name in names[1:]:\n",
    "    s += ', ' + name\n",
    "print(s)"
   ]
  },
  {
   "cell_type": "markdown",
   "metadata": {
    "slideshow": {
     "slide_type": "-"
    }
   },
   "source": [
    "### Dans Python"
   ]
  },
  {
   "cell_type": "code",
   "execution_count": null,
   "metadata": {
    "slideshow": {
     "slide_type": "-"
    }
   },
   "outputs": [],
   "source": [
    "print(', '.join(names))"
   ]
  },
  {
   "cell_type": "markdown",
   "metadata": {
    "slideshow": {
     "slide_type": "subslide"
    }
   },
   "source": [
    "### Conclusion\n",
    "\n",
    "* Dans Python on évite le plus possible d'utiliser des indices, on préfère les itérateurs\n",
    "\n",
    "* C'est plus performant, et c'est plus joli!\n",
    "\n",
    "* Joli, c'est bien. Car joli, c'est lisible et compréhensible"
   ]
  },
  {
   "cell_type": "markdown",
   "metadata": {
    "slideshow": {
     "slide_type": "subslide"
    }
   },
   "source": [
    "### Exemple: Manque de connaissance\n",
    "\n",
    "Trouvé dans une grosse librairie: fonction pour rajouter un ```/``` à la fin d'un URL, si nécessaire"
   ]
  },
  {
   "cell_type": "code",
   "execution_count": null,
   "metadata": {
    "slideshow": {
     "slide_type": "-"
    }
   },
   "outputs": [],
   "source": [
    "if url[len(url) - 1] != '/':\n",
    "    url = url + '/'"
   ]
  },
  {
   "cell_type": "markdown",
   "metadata": {
    "slideshow": {
     "slide_type": "-"
    }
   },
   "source": [
    "Certes, ça fonctionne, mais c'est moche et ce n'est pas très _Pythonic_"
   ]
  },
  {
   "cell_type": "code",
   "execution_count": null,
   "metadata": {
    "slideshow": {
     "slide_type": "fragment"
    }
   },
   "outputs": [],
   "source": [
    "if not url.endswith('/'):\n",
    "    url += '/'"
   ]
  },
  {
   "cell_type": "markdown",
   "metadata": {
    "slideshow": {
     "slide_type": "-"
    }
   },
   "source": [
    "Aaaaaah, comme c'est mieux! ;-)"
   ]
  },
  {
   "cell_type": "markdown",
   "metadata": {
    "slideshow": {
     "slide_type": "slide"
    }
   },
   "source": [
    "# Classes\n",
    "\n",
    "Définition très compacte"
   ]
  },
  {
   "cell_type": "code",
   "execution_count": null,
   "metadata": {
    "slideshow": {
     "slide_type": "-"
    }
   },
   "outputs": [],
   "source": [
    "class Duck(object):\n",
    "  pass"
   ]
  },
  {
   "cell_type": "markdown",
   "metadata": {
    "slideshow": {
     "slide_type": "fragment"
    }
   },
   "source": [
    "Instanciation très facile"
   ]
  },
  {
   "cell_type": "code",
   "execution_count": null,
   "metadata": {
    "slideshow": {
     "slide_type": "-"
    }
   },
   "outputs": [],
   "source": [
    "mon_canard = Duck()"
   ]
  },
  {
   "cell_type": "markdown",
   "metadata": {
    "slideshow": {
     "slide_type": "-"
    }
   },
   "source": [
    "En Python, c'est impossible de dire ce qu'on appelle. Est-ce une méthode de classe? Une classe avec le nom en minuscules? Ou simplément un fonction bête?\n",
    "\n",
    "**Il peut être tout ce dont son auteur a besoin!**"
   ]
  },
  {
   "cell_type": "markdown",
   "metadata": {
    "slideshow": {
     "slide_type": "subslide"
    }
   },
   "source": [
    "<img src=\"ducktyping4.jpg\">"
   ]
  },
  {
   "cell_type": "code",
   "execution_count": null,
   "metadata": {
    "slideshow": {
     "slide_type": "subslide"
    }
   },
   "outputs": [],
   "source": [
    "class User(object):\n",
    "    is_staff = False  # Variable de classe\n",
    "    \n",
    "    def __init__(self, name='Anonymous'):\n",
    "        self.name = name  # Variable d'instance\n",
    "        super(User, self).__init__()\n",
    "        \n",
    "    def is_authorized(self):\n",
    "        return self.is_staff\n",
    "    \n",
    "my_user = User(name='David Reksten')\n",
    "print(my_user.name)\n",
    "print(my_user.is_authorized())\n",
    "        "
   ]
  },
  {
   "cell_type": "code",
   "execution_count": null,
   "metadata": {
    "slideshow": {
     "slide_type": "subslide"
    }
   },
   "outputs": [],
   "source": [
    "class SuperUser(User):\n",
    "    is_staff = True\n",
    "    \n",
    "my_user = SuperUser(name='David Reksten')\n",
    "print(my_user.name)\n",
    "print(my_user.is_authorized())"
   ]
  },
  {
   "cell_type": "markdown",
   "metadata": {
    "slideshow": {
     "slide_type": "slide"
    }
   },
   "source": [
    "# A la manière de Python\n",
    "\n",
    "* Héritage multiple\n",
    "* Pas d'attributs ou fonctions réellements privés\n",
    "* Convention: les attributs privés commencent par un ```_```\n",
    "* Méthodes spéciales sont entourées par ```__```\n",
    "  * ```__init__```\n",
    "  * ```__cmp__```\n",
    "  * ```__str__```\n",
    "  * etc...\n",
    "\n",
    "Ces méthodes s'appelent *dunder-methods*, comme __d__ouble **under**score"
   ]
  },
  {
   "cell_type": "markdown",
   "metadata": {
    "slideshow": {
     "slide_type": "slide"
    }
   },
   "source": [
    "# Modules\n",
    "\n",
    "* Permets l'isolation et la réutilisation du code grace au namespace\n",
    "\n",
    "* Rajouter des références aux variables, classes et fonctions dans le namespace actuel"
   ]
  },
  {
   "cell_type": "markdown",
   "metadata": {
    "slideshow": {
     "slide_type": "subslide"
    }
   },
   "source": [
    "### Importer le module ```datetime``` dans le namespace actuel"
   ]
  },
  {
   "cell_type": "code",
   "execution_count": null,
   "metadata": {
    "slideshow": {
     "slide_type": "-"
    }
   },
   "outputs": [],
   "source": [
    "import datetime\n",
    "print(datetime.date.today())\n",
    "print(datetime.timedelta(days=1))"
   ]
  },
  {
   "cell_type": "markdown",
   "metadata": {
    "slideshow": {
     "slide_type": "fragment"
    }
   },
   "source": [
    "### Importer les objets ```date``` et ```timedelta``` dans le namespace actuel"
   ]
  },
  {
   "cell_type": "code",
   "execution_count": null,
   "metadata": {
    "slideshow": {
     "slide_type": "-"
    }
   },
   "outputs": [],
   "source": [
    "from datetime import date, timedelta\n",
    "print(date.today())\n",
    "print(timedelta(days=1))"
   ]
  },
  {
   "cell_type": "markdown",
   "metadata": {
    "slideshow": {
     "slide_type": "fragment"
    }
   },
   "source": [
    "### Importer _tous_ le contenu du module ```datetime``` dans le namespace actuel"
   ]
  },
  {
   "cell_type": "code",
   "execution_count": null,
   "metadata": {
    "slideshow": {
     "slide_type": "-"
    }
   },
   "outputs": [],
   "source": [
    "from datetime import *  # Non recommandé, risque de pollution de namespace\n",
    "print(date.today())\n",
    "print(timedelta(days=1))"
   ]
  },
  {
   "cell_type": "markdown",
   "metadata": {
    "slideshow": {
     "slide_type": "slide"
    }
   },
   "source": [
    "# Package management\n",
    "\n",
    "* pip\n",
    "* virtualenv\n",
    "* pipenv"
   ]
  },
  {
   "cell_type": "markdown",
   "metadata": {
    "slideshow": {
     "slide_type": "slide"
    }
   },
   "source": [
    "# Gestion d'erreurs"
   ]
  },
  {
   "cell_type": "code",
   "execution_count": null,
   "metadata": {
    "slideshow": {
     "slide_type": "-"
    }
   },
   "outputs": [],
   "source": [
    "import datetime\n",
    "import random\n",
    "\n",
    "day = random.choice(['Eleventh', 11])\n",
    "try:\n",
    "    date = 'October ' + day\n",
    "except TypeError:\n",
    "    date = datetime.date(2018, 10, day)\n",
    "else:\n",
    "    date += ' 2018'\n",
    "finally:\n",
    "    print(date)"
   ]
  },
  {
   "cell_type": "markdown",
   "metadata": {
    "slideshow": {
     "slide_type": "slide"
    }
   },
   "source": [
    "# Web frameworks\n",
    "\n",
    "## Full stack\n",
    "\n",
    "### Ideal for web development (portals, etc)\n",
    "\n",
    "* Django\n",
    "* Pyramid\n",
    "* TurboGears\n",
    "* Web2Py"
   ]
  },
  {
   "cell_type": "markdown",
   "metadata": {
    "slideshow": {
     "slide_type": "subslide"
    }
   },
   "source": [
    "## Micro frameworks\n",
    "\n",
    "### Ideal for webservices\n",
    "\n",
    "* Flask\n",
    "* Bottle\n",
    "* CherryPy"
   ]
  },
  {
   "cell_type": "markdown",
   "metadata": {
    "slideshow": {
     "slide_type": "subslide"
    }
   },
   "source": [
    "## Asynchronous frameworks\n",
    "\n",
    "### Ideal for distributed tasks\n",
    "\n",
    "* Sanic\n",
    "* Tornado"
   ]
  },
  {
   "cell_type": "markdown",
   "metadata": {
    "slideshow": {
     "slide_type": "slide"
    }
   },
   "source": [
    "# Flask web service demo"
   ]
  },
  {
   "cell_type": "raw",
   "metadata": {
    "slideshow": {
     "slide_type": "notes"
    }
   },
   "source": [
    "SETUP OF FLASK SERVER FOR DEMO\n",
    "C:\\Python36-64>set FLASK_APP=Scripts\\myflask.py\n",
    "C:\\Python36-64>set FLASK_ENV=development\n",
    "C:\\Python36-64>python -m flask run\n",
    "    http://127.0.0.1:5000/hello"
   ]
  },
  {
   "cell_type": "code",
   "execution_count": null,
   "metadata": {
    "slideshow": {
     "slide_type": "fragment"
    }
   },
   "outputs": [],
   "source": [
    "%%writefile myflask.py\n",
    "\n",
    "from flask import Flask\n",
    "app = Flask(__name__)\n",
    "\n",
    "@app.route('/hello')\n",
    "def hello_world():\n",
    "    return 'Hello World!'\n",
    "\n",
    "app.run(debug=True)"
   ]
  },
  {
   "cell_type": "code",
   "execution_count": null,
   "metadata": {
    "slideshow": {
     "slide_type": "subslide"
    }
   },
   "outputs": [],
   "source": [
    "%%writefile myflask.py\n",
    "\n",
    "import random\n",
    "from flask import Flask\n",
    "app = Flask(__name__)\n",
    "\n",
    "@app.route('/hello')\n",
    "def hello_world():\n",
    "    return 'Hello World!'\n",
    "\n",
    "@app.route('/random')\n",
    "def get_random_number():\n",
    "    random_number = random.randint(1, 100)\n",
    "    return f'The random number is {random_number}'\n",
    "\n",
    "app.run(debug=True)"
   ]
  },
  {
   "cell_type": "code",
   "execution_count": null,
   "metadata": {
    "slideshow": {
     "slide_type": "subslide"
    }
   },
   "outputs": [],
   "source": [
    "%%writefile myflask.py\n",
    "import json\n",
    "from flask import Flask, request\n",
    "from werkzeug.exceptions import Forbidden, NotFound  # Helper function for exceptions\n",
    "app = Flask(__name__)\n",
    "\n",
    "EMPLOYEES = {\n",
    "    1: {'name': 'David Reksten', 'company': 'INSER', 'department': 'GIS'},\n",
    "    2: {'name': 'Luca Palli',    'company': 'INSER', 'department': 'JAVA'},\n",
    "    3: {'name': 'Mary Brown',    'company': 'DFAE',  'department': 'Catastrophes'}}\n",
    "\n",
    "@app.route('/employee/<int:employee_id>', methods=('GET', 'POST'))\n",
    "def get_employee(employee_id):\n",
    "    \"\"\" POST: Add a new employee, return 409 FORBIDDEN if id already exists\n",
    "        GET:  Request employee information\n",
    "    \"\"\"\n",
    "    if request.method == 'POST':  # Add an employee\n",
    "        if employee_id in EMPLOYEES.keys():\n",
    "            # Employee id already exists, return http status 409 FORBIDDEN\n",
    "            raise Forbidden(f'Employee {employee_id} already exists')\n",
    "            \n",
    "        EMPLOYEES[employee_id] = {\n",
    "            'name': request.form['name'], \n",
    "            'company': request.form['company'], \n",
    "            'department': request.form['department']\n",
    "        }\n",
    "        return json.dumps({'employee_id': employee_id})\n",
    "        \n",
    "    else:  # Retrieve an employee\n",
    "        if employee_id in EMPLOYEES.keys():\n",
    "            employee = EMPLOYEES[employee_id]\n",
    "            return json.dumps(employee)\n",
    "        else:\n",
    "            raise NotFound(f'Employee {employee_id} does not exist')\n",
    "\n",
    "app.run(debug=True)"
   ]
  },
  {
   "cell_type": "markdown",
   "metadata": {
    "slideshow": {
     "slide_type": "slide"
    }
   },
   "source": [
    "# Consuming web services with Requests"
   ]
  },
  {
   "cell_type": "code",
   "execution_count": null,
   "metadata": {
    "slideshow": {
     "slide_type": "-"
    }
   },
   "outputs": [],
   "source": [
    "import requests\n",
    "\n",
    "req = requests.get('https://duckduckgo.com/')\n",
    "print(req.text)"
   ]
  },
  {
   "cell_type": "code",
   "execution_count": null,
   "metadata": {
    "slideshow": {
     "slide_type": "subslide"
    }
   },
   "outputs": [],
   "source": [
    "# Retrieve employee number 2\n",
    "\n",
    "import requests\n",
    "\n",
    "req = requests.get('http://localhost:5000/employee/3')\n",
    "print(req.text)"
   ]
  },
  {
   "cell_type": "code",
   "execution_count": null,
   "metadata": {
    "slideshow": {
     "slide_type": "subslide"
    }
   },
   "outputs": [],
   "source": [
    "# Insert a new employee\n",
    "\n",
    "import requests\n",
    "\n",
    "new_employee = {'name': 'Alain Berset', 'company': 'CH', 'department': 'Parti Socialiste'}\n",
    "\n",
    "req = requests.post('http://localhost:5000/employee/4', data=new_employee)\n",
    "print(req.text)"
   ]
  },
  {
   "cell_type": "markdown",
   "metadata": {
    "slideshow": {
     "slide_type": "slide"
    }
   },
   "source": [
    "# Type hints, or static typing\n",
    "\n",
    "* Introduced in Python 3.5\n",
    "* Entirely optional, using the ```typing``` module\n",
    "* Code annotations, either in code or in external stub files\n",
    "* Enables static analysis tools, improve IDE hints, etc.\n",
    "* Using the ```mypy``` static type checker"
   ]
  },
  {
   "cell_type": "markdown",
   "metadata": {
    "slideshow": {
     "slide_type": "subslide"
    }
   },
   "source": [
    "### From dynamic typing"
   ]
  },
  {
   "cell_type": "code",
   "execution_count": null,
   "metadata": {
    "slideshow": {
     "slide_type": "-"
    }
   },
   "outputs": [],
   "source": [
    "def fib(n):\n",
    "    a, b = 0, 1\n",
    "    while a < n:\n",
    "        yield a\n",
    "        a, b = b, a+b"
   ]
  },
  {
   "cell_type": "markdown",
   "metadata": {
    "slideshow": {
     "slide_type": "-"
    }
   },
   "source": [
    "### To static typing"
   ]
  },
  {
   "cell_type": "code",
   "execution_count": null,
   "metadata": {
    "slideshow": {
     "slide_type": "-"
    }
   },
   "outputs": [],
   "source": [
    "from typing import Iterator\n",
    "\n",
    "def fib(n: int) -> Iterator[int]:\n",
    "    a, b = 0, 1\n",
    "    while a < n:\n",
    "        yield a\n",
    "        a, b = b, a+b"
   ]
  },
  {
   "cell_type": "markdown",
   "metadata": {
    "slideshow": {
     "slide_type": "slide"
    }
   },
   "source": [
    "# FIN\n"
   ]
  }
 ],
 "metadata": {
  "kernelspec": {
   "display_name": "Python 3",
   "language": "python",
   "name": "python3"
  },
  "language_info": {
   "codemirror_mode": {
    "name": "ipython",
    "version": 3
   },
   "file_extension": ".py",
   "mimetype": "text/x-python",
   "name": "python",
   "nbconvert_exporter": "python",
   "pygments_lexer": "ipython3",
   "version": "3.6.0"
  },
  "livereveal": {
   "theme": "serif",
   "transition": "zoom"
  }
 },
 "nbformat": 4,
 "nbformat_minor": 2
}
